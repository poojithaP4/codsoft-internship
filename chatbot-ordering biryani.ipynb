{
 "cells": [
  {
   "cell_type": "code",
   "execution_count": 3,
   "id": "70983305",
   "metadata": {},
   "outputs": [
    {
     "name": "stdout",
     "output_type": "stream",
     "text": [
      "Hi, Iam a chatbot made by shafiya. I can answer simple questions and help you with tasks. What can I do for you\n",
      "Please enter your request: biryani or anything ? biryani\n",
      "Which type of Biryani would you like to have? chicken\n",
      "Pack Size of Biryani? large\n",
      "Where would you like your Biryani Parcel delivered? hyderabad\n",
      "What is your phone number? 3837937283\n",
      "Thank you for your order, Your Biryani will be delivered soon.\n"
     ]
    }
   ],
   "source": [
    "def get_user_input(prompt):\n",
    "    return input(prompt)\n",
    "def order_Biryani():\n",
    "    Biryani_type = get_user_input(\"Which type of Biryani would you like to have? \" )\n",
    "    Biryani_size = get_user_input(\"Pack Size of Biryani? \")\n",
    "    delivery_address = get_user_input(\"Where would you like your Biryani Parcel delivered? \")\n",
    "    phone_number = get_user_input(\"What is your phone number? \")\n",
    "    \n",
    "    if validate_order(Biryani_type, Biryani_size, delivery_address, phone_number):\n",
    "        print(\"Thank you for your order, Your Biryani will be delivered soon.\")\n",
    "    else:\n",
    "            print(\"Invalid input, please try again.\")\n",
    "def validate_order(Biryani_type, Biryani_size, delivery_address, phone_number):\n",
    "    if Biryani_type in [\"veg\", \"chicken\", \"mutton\", \"paneer\"]:\n",
    "        if Biryani_size in[\"single\", \"large\", \"family pack\"]:\n",
    "            if delivery_address:\n",
    "                phone_number = phone_number.replace('_', '')\n",
    "                if len(phone_number) == 10 and phone_number.isdigit():\n",
    "                    return True\n",
    "    return False\n",
    "def chatbot():\n",
    "    print(\"Hi, Iam a chatbot made by shafiya. I can answer simple questions and help you with tasks. What can I do for you\")\n",
    "    user_input = get_user_input(\"Please enter your request: biryani or anything ? \")\n",
    "    \n",
    "    if user_input == \"biryani\":\n",
    "        order_Biryani()\n",
    "    else:\n",
    "        print(\"I'm sorry, I can't help you with that. Please try again.\")\n",
    "        \n",
    "        \n",
    "chatbot()\n",
    "            "
   ]
  },
  {
   "cell_type": "code",
   "execution_count": null,
   "id": "1cbf39d7",
   "metadata": {},
   "outputs": [],
   "source": []
  }
 ],
 "metadata": {
  "kernelspec": {
   "display_name": "Python 3 (ipykernel)",
   "language": "python",
   "name": "python3"
  },
  "language_info": {
   "codemirror_mode": {
    "name": "ipython",
    "version": 3
   },
   "file_extension": ".py",
   "mimetype": "text/x-python",
   "name": "python",
   "nbconvert_exporter": "python",
   "pygments_lexer": "ipython3",
   "version": "3.9.13"
  }
 },
 "nbformat": 4,
 "nbformat_minor": 5
}
