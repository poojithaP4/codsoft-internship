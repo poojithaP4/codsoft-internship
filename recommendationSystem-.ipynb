{
 "cells": [
  {
   "cell_type": "code",
   "execution_count": 18,
   "id": "fbba6240",
   "metadata": {},
   "outputs": [
    {
     "name": "stdout",
     "output_type": "stream",
     "text": [
      "Recommendations for Shafiya:\n",
      "Popcorn: ['Nuts', 'Soda', 'Ice Cream']\n",
      "Soda: ['Nuts', 'Pretzels', 'Popcorn']\n",
      "Nuts: ['Soda', 'Popcorn', 'Pretzels']\n",
      "Pretzels: ['Ice Cream', 'Chocolate Bar', 'Soda']\n"
     ]
    }
   ],
   "source": [
    "import numpy as np\n",
    "from sklearn.metrics.pairwise import cosine_similarity\n",
    "\n",
    "# Dataset\n",
    "database_user_item_interactions = {\n",
    "    'Shafiya': {'Potato Chips': 5, 'Chocolate Bar': 3, 'Ice Cream': 4},\n",
    "    'Riya': {'Popcorn': 4, 'Nuts': 5, 'Soda': 2},\n",
    "    'Padma Priya': {'Chocolate Bar': 2, 'Ice Cream': 5, 'Pretzels': 4},\n",
    "    'Gayatri': {'Nuts': 4, 'Soda': 5, 'Pretzels': 2},\n",
    "}\n",
    "\n",
    "\n",
    "\n",
    "\n",
    "# Function to calculate item-item similarity using cosine similarity\n",
    "def item_similarity(interactions):\n",
    "    items = list(set(item for user_interactions in interactions.values() for item in user_interactions))\n",
    "    item_matrix = np.zeros((len(items), len(items)))\n",
    "\n",
    "    for i, item1 in enumerate(items):\n",
    "        for j, item2 in enumerate(items):\n",
    "            if i == j:\n",
    "                continue\n",
    "            vector1 = [user_interactions.get(item1, 0) for user_interactions in interactions.values()]\n",
    "            vector2 = [user_interactions.get(item2, 0) for user_interactions in interactions.values()]\n",
    "            similarity = cosine_similarity([vector1], [vector2])\n",
    "            item_matrix[i, j] = similarity[0, 0]\n",
    "\n",
    "    return items, item_matrix\n",
    "\n",
    "# Function to make recommendations for a given user\n",
    "def recommend(user, interactions, item_matrix, items, n=3):\n",
    "    user_interactions = interactions[user]\n",
    "    recommendations = []\n",
    "\n",
    "    for item in items:\n",
    "        if item not in user_interactions:\n",
    "            item_idx = items.index(item)\n",
    "            item_similarity_scores = item_matrix[item_idx]\n",
    "            similar_items_idx = np.argsort(item_similarity_scores)[::-1]\n",
    "            top_n_similar_items = [items[i] for i in similar_items_idx[:n]]\n",
    "            recommendations.append((item, top_n_similar_items))\n",
    "\n",
    "    return recommendations\n",
    "\n",
    "# Example usage\n",
    "items, item_matrix = item_similarity(database_user_item_interactions)\n",
    "user_to_recommend = 'Shafiya'\n",
    "recommendations = recommend(user_to_recommend, database_user_item_interactions, item_matrix, items)\n",
    "\n",
    "print(f\"Recommendations for {user_to_recommend}:\")\n",
    "for item, similar_items in recommendations:\n",
    "    print(f\"{item}: {similar_items}\")"
   ]
  },
  {
   "cell_type": "code",
   "execution_count": null,
   "id": "fd0509ae",
   "metadata": {},
   "outputs": [],
   "source": []
  }
 ],
 "metadata": {
  "kernelspec": {
   "display_name": "Python 3 (ipykernel)",
   "language": "python",
   "name": "python3"
  },
  "language_info": {
   "codemirror_mode": {
    "name": "ipython",
    "version": 3
   },
   "file_extension": ".py",
   "mimetype": "text/x-python",
   "name": "python",
   "nbconvert_exporter": "python",
   "pygments_lexer": "ipython3",
   "version": "3.9.13"
  }
 },
 "nbformat": 4,
 "nbformat_minor": 5
}
